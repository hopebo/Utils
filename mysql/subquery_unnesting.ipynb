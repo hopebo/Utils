{
 "cells": [
  {
   "cell_type": "code",
   "execution_count": 10,
   "metadata": {},
   "outputs": [],
   "source": [
    "queries = {\n",
    "    'Q2': '''\n",
    "SELECT s_acctbal, s_name, n_name, p_partkey, p_mfgr\n",
    "    , s_address, s_phone, s_comment\n",
    "FROM part, supplier, partsupp, nation, region\n",
    "WHERE p_partkey = ps_partkey\n",
    "    AND s_suppkey = ps_suppkey\n",
    "    AND p_size = 30\n",
    "    AND p_type LIKE '%STEEL'\n",
    "    AND s_nationkey = n_nationkey\n",
    "    AND n_regionkey = r_regionkey\n",
    "    AND r_name = 'ASIA'\n",
    "    AND ps_supplycost = (\n",
    "        SELECT MIN(ps_supplycost)\n",
    "        FROM partsupp, supplier, nation, region\n",
    "        WHERE p_partkey = ps_partkey\n",
    "            AND s_suppkey = ps_suppkey\n",
    "            AND s_nationkey = n_nationkey\n",
    "            AND n_regionkey = r_regionkey\n",
    "            AND r_name = 'ASIA'\n",
    "    )\n",
    "ORDER BY s_acctbal DESC, n_name, s_name, p_partkey\n",
    "LIMIT 100\n",
    "    ''',\n",
    "    'Q17': '''\n",
    "SELECT sum(l_extendedprice) / 7.0 AS avg_yearly\n",
    "FROM lineitem, part\n",
    "WHERE p_partkey = l_partkey\n",
    "    AND p_brand = 'Brand#44'\n",
    "    AND p_container = 'WRAP PKG'\n",
    "    AND l_quantity < (\n",
    "        SELECT 0.2 * avg(l_quantity)\n",
    "        FROM lineitem\n",
    "        WHERE l_partkey = p_partkey\n",
    "    )\n",
    "    '''\n",
    "}"
   ]
  },
  {
   "cell_type": "code",
   "execution_count": 39,
   "metadata": {},
   "outputs": [],
   "source": [
    "import pymysql\n",
    "import pymysql.cursors\n",
    "\n",
    "class Connection:\n",
    "    def __init__(self, host, port, user, password):\n",
    "        self.host = host\n",
    "        self.port = port\n",
    "        self.user = user\n",
    "        self.password = password\n",
    "        self.conn = None\n",
    "    \n",
    "    def connect(self, database):\n",
    "        self.conn = pymysql.connect(host=self.host,\n",
    "                                    port=self.port,\n",
    "                                    user=self.user,\n",
    "                                    passwd=self.password,\n",
    "                                    db=database,\n",
    "                                    charset='utf8')\n",
    "    \n",
    "    def select(self, sql):\n",
    "        with self.conn.cursor() as cursor:\n",
    "            cursor.execute(sql)\n",
    "            result = cursor.fetchall()\n",
    "        self.conn.commit()\n",
    "        return str(result)\n",
    "        \n",
    "            \n",
    "    def __del__(self):\n",
    "        self.conn.close()"
   ]
  },
  {
   "cell_type": "code",
   "execution_count": 27,
   "metadata": {
    "scrolled": true
   },
   "outputs": [
    {
     "name": "stdout",
     "output_type": "stream",
     "text": [
      "\n",
      "SELECT s_acctbal, s_name, n_name, p_partkey, p_mfgr\n",
      "    , s_address, s_phone, s_comment\n",
      "FROM part, supplier, partsupp, nation, region\n",
      "WHERE p_partkey = ps_partkey\n",
      "    AND s_suppkey = ps_suppkey\n",
      "    AND p_size = 30\n",
      "    AND p_type LIKE '%STEEL'\n",
      "    AND s_nationkey = n_nationkey\n",
      "    AND n_regionkey = r_regionkey\n",
      "    AND r_name = 'ASIA'\n",
      "    AND ps_supplycost = (\n",
      "        SELECT MIN(ps_supplycost)\n",
      "        FROM partsupp, supplier, nation, region\n",
      "        WHERE p_partkey = ps_partkey\n",
      "            AND s_suppkey = ps_suppkey\n",
      "            AND s_nationkey = n_nationkey\n",
      "            AND n_regionkey = r_regionkey\n",
      "            AND r_name = 'ASIA'\n",
      "    )\n",
      "ORDER BY s_acctbal DESC, n_name, s_name, p_partkey\n",
      "LIMIT 100\n",
      "    \n",
      "1.2 s ± 30.7 ms per loop (mean ± std. dev. of 10 runs, 1 loop each)\n",
      "1.84 s ± 32.4 ms per loop (mean ± std. dev. of 10 runs, 1 loop each)\n",
      "Q2 speedup is: 1.535728.\n",
      "\n",
      "SELECT sum(l_extendedprice) / 7.0 AS avg_yearly\n",
      "FROM lineitem, part\n",
      "WHERE p_partkey = l_partkey\n",
      "    AND p_brand = 'Brand#44'\n",
      "    AND p_container = 'WRAP PKG'\n",
      "    AND l_quantity < (\n",
      "        SELECT 0.2 * avg(l_quantity)\n",
      "        FROM lineitem\n",
      "        WHERE l_partkey = p_partkey\n",
      "    )\n",
      "    \n",
      "1.43 s ± 22.3 ms per loop (mean ± std. dev. of 10 runs, 1 loop each)\n",
      "7.01 s ± 17.7 ms per loop (mean ± std. dev. of 10 runs, 1 loop each)\n",
      "Q17 speedup is: 4.908246.\n"
     ]
    }
   ],
   "source": [
    "opt = Connection('127.0.0.1', 3306, 'test', '123456')\n",
    "opt.connect('dbt3sf10')\n",
    "\n",
    "opt.select(\"set global innodb_adaptive_hash_index = off;\")\n",
    "result_of_queries = {}\n",
    "\n",
    "for name in queries.keys():\n",
    "    result_of_queries[name] = {}\n",
    "    sql = queries[name]\n",
    "    print (sql)\n",
    "    \n",
    "    opt.select(\"set optimizer_switch='subquery_unnesting_with_window=on';\")\n",
    "  \n",
    "    result = %timeit -o -n 1 -r 10 opt.select(sql)\n",
    "    result_of_queries[name]['unnest'] = (result.average, result.worst, result.best)\n",
    "    \n",
    "    opt.select(\"set optimizer_switch='subquery_unnesting_with_window=off';\")\n",
    "\n",
    "    result = %timeit -o -n 1 -r 10 opt.select(sql)\n",
    "    result_of_queries[name]['non-unnest'] = (result.average, result.worst, result.best)\n",
    "    \n",
    "    print(\"%s speedup is: %f.\" % (name, result_of_queries[name]['non-unnest'][0] / result_of_queries[name]['unnest'][0]))\n"
   ]
  },
  {
   "cell_type": "code",
   "execution_count": 20,
   "metadata": {},
   "outputs": [
    {
     "name": "stdout",
     "output_type": "stream",
     "text": [
      "{'Q2': {'unnest': (1.2141587385998718, 1.232421185000021, 1.1703475929998604), 'non-unnest': (1.814908732799995, 1.8435294040000372, 1.780860814999869)}, 'Q17': {'unnest': (1.4744295098000293, 1.5379993710002964, 1.423272003999955), 'non-unnest': (6.9418928264001805, 7.01334007100013, 6.893790168000123)}}\n"
     ]
    }
   ],
   "source": [
    "print(result_of_queries)"
   ]
  }
 ],
 "metadata": {
  "kernelspec": {
   "display_name": "Python 3 (ipykernel)",
   "language": "python",
   "name": "python3"
  },
  "language_info": {
   "codemirror_mode": {
    "name": "ipython",
    "version": 3
   },
   "file_extension": ".py",
   "mimetype": "text/x-python",
   "name": "python",
   "nbconvert_exporter": "python",
   "pygments_lexer": "ipython3",
   "version": "3.10.9"
  }
 },
 "nbformat": 4,
 "nbformat_minor": 2
}
